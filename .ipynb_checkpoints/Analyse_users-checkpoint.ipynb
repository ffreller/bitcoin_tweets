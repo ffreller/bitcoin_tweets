{
 "cells": [
  {
   "cell_type": "code",
   "execution_count": null,
   "metadata": {},
   "outputs": [],
   "source": [
    "# Importar as bibliotecas\n",
    "\n",
    "import seaborn as sns\n",
    "import pandas as pd\n",
    "from tqdm.notebook import tqdm"
   ]
  },
  {
   "cell_type": "markdown",
   "metadata": {},
   "source": [
    "## Lendo o dataset"
   ]
  },
  {
   "cell_type": "code",
   "execution_count": null,
   "metadata": {},
   "outputs": [],
   "source": [
    "df0 = pd.read_csv('Bitcoin_tweets.csv')\n",
    "df0.info()"
   ]
  },
  {
   "cell_type": "code",
   "execution_count": null,
   "metadata": {},
   "outputs": [],
   "source": [
    "df0.columns"
   ]
  },
  {
   "cell_type": "code",
   "execution_count": null,
   "metadata": {},
   "outputs": [],
   "source": [
    "df0.head(5)"
   ]
  },
  {
   "cell_type": "markdown",
   "metadata": {},
   "source": [
    "Como o objetivo deste notebook é analisar o perfil dos usuário (e não seus tweets), vamos analisar as colunas referente ao usuário: user_name, user_location, user_description, user_followers, user_favourites, user_friends, user_verified. Apesar de ser referente ao tweet, também analisaremos a coluna source, já que ela pode fornecer alguma informação sobre o usuário"
   ]
  },
  {
   "cell_type": "markdown",
   "metadata": {},
   "source": [
    "## Tratar colunas"
   ]
  },
  {
   "cell_type": "code",
   "execution_count": null,
   "metadata": {},
   "outputs": [],
   "source": [
    "## Corrigindo colunas de data\n",
    "df0['date'] = pd.to_datetime(df0['date'], format='%Y-%m-%d %H:%M:%S', errors='coerce')\n",
    "df0['user_created'] = pd.to_datetime(df0['user_created'], format='%Y-%m-%d %H:%M:%S', errors='coerce')"
   ]
  },
  {
   "cell_type": "code",
   "execution_count": null,
   "metadata": {},
   "outputs": [],
   "source": [
    "## Corrigindo user_verified\n",
    "df0['user_verified'] = df0['user_verified'].apply(lambda x: (True if x=='True' else False) if type(x)==str else x).astype(bool)"
   ]
  },
  {
   "cell_type": "code",
   "execution_count": null,
   "metadata": {},
   "outputs": [],
   "source": [
    "# Limpar colunas numéricas\n",
    "def clean_number_column(value):\n",
    "    try:\n",
    "        return float(value)\n",
    "    except:\n",
    "        return float(\"NaN\")\n",
    "\n",
    "df0['user_favourites'] = df0['user_favourites'].apply(clean_number_column)\n",
    "df0['user_friends'] = df0['user_friends'].apply(clean_number_column)\n",
    "df0['user_followers'] = df0['user_followers'].apply(clean_number_column)"
   ]
  },
  {
   "cell_type": "markdown",
   "metadata": {},
   "source": [
    "## Agrupar dados"
   ]
  },
  {
   "cell_type": "markdown",
   "metadata": {},
   "source": [
    "Vamos agrupar o dataset por usuário, para que possamos olhar para suas características independentemente do número de tweets de cada usuário. Como não há um id único para cada um, vamos agrupá-los usando a combinação nome+user_created"
   ]
  },
  {
   "cell_type": "code",
   "execution_count": null,
   "metadata": {},
   "outputs": [],
   "source": [
    "group_dict = {\n",
    "    'user_description':'last',\n",
    "    'user_created':'min',\n",
    "    'user_followers':'mean',\n",
    "    'user_friends':'mean',\n",
    "    'user_favourites':'mean',\n",
    "    'user_verified':'max',\n",
    "    'date':'count',\n",
    "    'user_name':'last',\n",
    "}\n",
    "df_ = df0.sort_values('date').copy()\n",
    "df_['id'] = df_['user_name'] + df_['user_created'].astype(str)\n",
    "df1 = df_.groupby('id').agg(group_dict)\n",
    "df1.rename(columns={'date':'tweet_count'}, inplace=True)"
   ]
  },
  {
   "cell_type": "code",
   "execution_count": null,
   "metadata": {},
   "outputs": [],
   "source": [
    "# Para user_location, vamos criar um agrupador que traz a última localização que o usuário preencheu\n",
    "def last_if_not_nan(values):\n",
    "    for i in range(len(values)-1, -1, -1):\n",
    "        value = values.iloc[i]\n",
    "        if (str(value).lower() != 'nan') and (value != '') and (value != None) and (pd.isna(value) == False):\n",
    "            return value\n",
    "    return 'NaN'\n",
    "\n",
    "df2 = df_[['id', 'user_location']].groupby('id').agg(last_if_not_nan)\n",
    "df1['user_location'] = df2['user_location'].copy()"
   ]
  },
  {
   "cell_type": "code",
   "execution_count": null,
   "metadata": {},
   "outputs": [],
   "source": [
    "del df_, df2"
   ]
  },
  {
   "cell_type": "markdown",
   "metadata": {},
   "source": [
    "## Analisar colunas"
   ]
  },
  {
   "cell_type": "markdown",
   "metadata": {},
   "source": [
    "### user_verfified"
   ]
  },
  {
   "cell_type": "code",
   "execution_count": null,
   "metadata": {},
   "outputs": [],
   "source": [
    "print(f\"{df1['user_verified'].mean():.3%} dos usuários são verificados\")"
   ]
  },
  {
   "cell_type": "markdown",
   "metadata": {},
   "source": [
    "### Date e user_created"
   ]
  },
  {
   "cell_type": "code",
   "execution_count": null,
   "metadata": {},
   "outputs": [],
   "source": [
    "print(f\"Data do tweet mais recente: {df0['date'].max():%d/%m/%Y}\")\n",
    "print(f\"Data do tweet mais antigo: {df0['date'].min():%d/%m/%Y}\")"
   ]
  },
  {
   "cell_type": "markdown",
   "metadata": {},
   "source": [
    "O dataset vai de 5 de fevereiro de 2021 até 16 de abril de 2022"
   ]
  },
  {
   "cell_type": "code",
   "execution_count": null,
   "metadata": {},
   "outputs": [],
   "source": [
    "df1['user_created'].dt.year.value_counts(1).sort_index().map('{:.2%}'.format)"
   ]
  },
  {
   "cell_type": "code",
   "execution_count": null,
   "metadata": {},
   "outputs": [],
   "source": [
    "print(\"Número de usuários criados antes de 2006, data em que o twitter foi criado:\", len(df1[df1['user_created'].dt.year < 2006]))"
   ]
  },
  {
   "cell_type": "markdown",
   "metadata": {},
   "source": [
    "A maioria dos usuários foi criada recentement -mais da metade deles entre 2019 e 2022. Há 3 datas de criação no ano 1970, o que só pode ser explicado por maus registros, já que não existia Twitter neste ano"
   ]
  },
  {
   "cell_type": "code",
   "execution_count": null,
   "metadata": {},
   "outputs": [],
   "source": [
    "df1.loc[df1['user_created'].dt.year < 2006, 'user_created'] = pd.to_datetime('2009-01-01')\n",
    "date_created_counts = df1['user_created'].dt.year.value_counts()\n",
    "sns.lineplot(x=date_created_counts.index, y=date_created_counts.values)"
   ]
  },
  {
   "cell_type": "markdown",
   "metadata": {},
   "source": [
    "### source"
   ]
  },
  {
   "cell_type": "code",
   "execution_count": null,
   "metadata": {},
   "outputs": [],
   "source": [
    "## 10 fontes mais comuns no dataset e sua porcentagem no dataset\n",
    "df0['source'].value_counts(1).head(10).map('{:.2%}'.format)"
   ]
  },
  {
   "cell_type": "markdown",
   "metadata": {},
   "source": [
    "Nota-se que android+iphone representam quase 50% das fontes de todos os tweets"
   ]
  },
  {
   "cell_type": "code",
   "execution_count": null,
   "metadata": {},
   "outputs": [],
   "source": [
    "top_10 = df0['source'].value_counts().head(10).index\n",
    "# Transformando valores que não estão no top10 em \"outros\"\n",
    "df0.loc[~df0['source'].isin(top_10), 'source'] = 'outros'\n",
    "df0['source'] = pd.Categorical(df0['source'])\n",
    "df0['source'].value_counts(1).map('{:.2%}'.format)"
   ]
  },
  {
   "cell_type": "markdown",
   "metadata": {},
   "source": [
    "Fontes que não estão no top 10 representam 19% das fontes do dataset. Usuários, portanto, usam diversas fontes para publicar, mas as principais são via aparelho móvel"
   ]
  },
  {
   "cell_type": "markdown",
   "metadata": {},
   "source": [
    "### user_favourites"
   ]
  },
  {
   "cell_type": "code",
   "execution_count": null,
   "metadata": {},
   "outputs": [],
   "source": [
    "df1['user_favourites'].describe().apply(\"{0:.2f}\".format)"
   ]
  },
  {
   "cell_type": "markdown",
   "metadata": {},
   "source": [
    "Os usuários têm uma média de 5226 favoritos. Mas, olhando pra mediana (586), percebe-se que a distribuição é assimétrica positivamente -ou seja, usuários com muitos favoritos estão puxando a média pra cima."
   ]
  },
  {
   "cell_type": "code",
   "execution_count": null,
   "metadata": {},
   "outputs": [],
   "source": [
    "#Retirando outliers para olhar melhor para o coluna\n",
    "iqr = df1['user_favourites'].quantile(0.75) - df1['user_favourites'].quantile(0.25)\n",
    "upper_limit = df1['user_favourites'].quantile(0.75) + iqr*3\n",
    "df1.loc[df1['user_favourites']>upper_limit, 'user_favourites'] = upper_limit"
   ]
  },
  {
   "cell_type": "code",
   "execution_count": null,
   "metadata": {},
   "outputs": [],
   "source": [
    "sns.displot(data=df1, x='user_favourites', kind='kde')"
   ]
  },
  {
   "cell_type": "markdown",
   "metadata": {},
   "source": [
    "### user_friends"
   ]
  },
  {
   "cell_type": "code",
   "execution_count": null,
   "metadata": {},
   "outputs": [],
   "source": [
    "df1['user_friends'].describe().apply(\"{0:.2f}\".format)"
   ]
  },
  {
   "cell_type": "markdown",
   "metadata": {},
   "source": [
    "Assim como no caso dos favoritos, a média (732) é bem maior que a mediana (236). Isso significa que a distribuição é assimétrica positivamente."
   ]
  },
  {
   "cell_type": "code",
   "execution_count": null,
   "metadata": {},
   "outputs": [],
   "source": [
    "#Retirando outliers para olhar melhor para o coluna\n",
    "iqr = df1['user_friends'].quantile(0.75) - df1['user_friends'].quantile(0.25)\n",
    "upper_limit = df1['user_friends'].quantile(0.75) + iqr*3\n",
    "df1.loc[df1['user_friends']>upper_limit, 'user_friends'] = upper_limit"
   ]
  },
  {
   "cell_type": "code",
   "execution_count": null,
   "metadata": {},
   "outputs": [],
   "source": [
    "sns.displot(data=df1, x='user_friends', kind='kde')"
   ]
  },
  {
   "cell_type": "markdown",
   "metadata": {},
   "source": [
    "### user_followers"
   ]
  },
  {
   "cell_type": "code",
   "execution_count": null,
   "metadata": {},
   "outputs": [],
   "source": [
    "df1['user_followers'].describe().apply(\"{0:.2f}\".format)"
   ]
  },
  {
   "cell_type": "markdown",
   "metadata": {},
   "source": [
    "Assim como as outras duas variáveis numéricas, temos uma distribuição positivamente assimétrica. Usuários têm média de 2926 seguidores, mas mediana de 76"
   ]
  },
  {
   "cell_type": "code",
   "execution_count": null,
   "metadata": {},
   "outputs": [],
   "source": [
    "#Retirando outliers para olhar melhor para o coluna\n",
    "iqr = df1['user_followers'].quantile(0.75) - df1['user_friends'].quantile(0.25)\n",
    "upper_limit = df1['user_followers'].quantile(0.75) + iqr*3\n",
    "df1.loc[df1['user_followers']>upper_limit, 'user_followers'] = upper_limit"
   ]
  },
  {
   "cell_type": "code",
   "execution_count": null,
   "metadata": {},
   "outputs": [],
   "source": [
    "sns.displot(data=df1, x='user_followers', kind='kde')"
   ]
  },
  {
   "cell_type": "markdown",
   "metadata": {},
   "source": [
    "### user_name\n",
    "Vamos ver se conseguimos extrair informações sobre os usuários a partir de seus nomes"
   ]
  },
  {
   "cell_type": "code",
   "execution_count": null,
   "metadata": {},
   "outputs": [],
   "source": [
    "keywords_crypto = ['bitcoin', 'cr(?:y|i)pto', 'ethereum']\n",
    "for word in keywords_crypto:\n",
    "    df1[f'{word}_in_name'] = df1['user_name'].str.lower().str.contains(word)"
   ]
  },
  {
   "cell_type": "code",
   "execution_count": null,
   "metadata": {},
   "outputs": [],
   "source": [
    "for word in keywords_crypto:\n",
    "    print(word)\n",
    "    media = df1[f'{word}_in_name'].mean()\n",
    "    print(f\"{media:.3%} dos usuários têm referência ao termo '{word}' em seu nome\")\n",
    "    print()"
   ]
  },
  {
   "cell_type": "markdown",
   "metadata": {},
   "source": [
    "Vemos que uma parte relevante dos usuários que tuíta sobre bitcoin está ligado ao tema das criptomoedas. \n",
    "\n",
    "ps: 'cr(?:y|i)pto' é uma expressão regular para que tanto crypto quanto cripto atendam ao critério."
   ]
  },
  {
   "cell_type": "code",
   "execution_count": null,
   "metadata": {},
   "outputs": [],
   "source": [
    "df1['any_crypto_in_name'] = df1[[w+'_in_name' for w in keywords_crypto]].any(axis=1)\n",
    "print(f\"{df1['any_crypto_in_name'].mean():.3%} dos usuários têm referência a uma das palavras chaves relacionadas a crptomoedas (bitcoin, cripto, ethereum) em seu nome\")"
   ]
  },
  {
   "cell_type": "markdown",
   "metadata": {},
   "source": [
    "8% têm pelo menos uma das palavras-chave selecionadas no nome"
   ]
  },
  {
   "cell_type": "markdown",
   "metadata": {},
   "source": [
    "### user_description"
   ]
  },
  {
   "cell_type": "code",
   "execution_count": null,
   "metadata": {},
   "outputs": [],
   "source": [
    "for word in keywords_crypto:\n",
    "    df1[f'{word}_in_description'] = df1['user_description'].str.lower().str.contains(word)"
   ]
  },
  {
   "cell_type": "code",
   "execution_count": null,
   "metadata": {},
   "outputs": [],
   "source": [
    "for word in keywords_crypto:\n",
    "    print(word)\n",
    "    media = df1[f'{word}_in_description'].mean()\n",
    "    print(f\"{media:.3%} dos usuários têm referência ao termo '{word}' em sua descrição\")\n",
    "    print()"
   ]
  },
  {
   "cell_type": "markdown",
   "metadata": {},
   "source": [
    "As descrições dos usuários também indiam que os tweets sobre bitcoin costumam vir de pessoas que têm relação consolidada com o tema das criptomoedas"
   ]
  },
  {
   "cell_type": "code",
   "execution_count": null,
   "metadata": {},
   "outputs": [],
   "source": [
    "df1['any_crypto_in_description'] = df1[[w+'_in_description' for w in keywords_crypto]].any(axis=1)\n",
    "print(f\"{df1['any_crypto_in_description'].mean():.3%} dos usuários têm referência a uma das palavras chaves relacionadas a crptomoedas (bitcoin, cripto, ethereum) na sua descrição\")"
   ]
  },
  {
   "cell_type": "code",
   "execution_count": null,
   "metadata": {},
   "outputs": [],
   "source": [
    "df1['any_crypto_in_name_description'] = df1[['any_crypto_in_description', 'any_crypto_in_name']].any(axis=1)\n",
    "print(f\"{df1['any_crypto_in_name_description'].mean():.3%} dos usuários têm referência a uma das palavras chaves relacionadas a crptomoedas (bitcoin, cripto, ethereum) em seu nome ou descrição\")"
   ]
  },
  {
   "cell_type": "markdown",
   "metadata": {},
   "source": [
    "Considerando o nome do usuário e a descrição, quase um terço (30%) dos autores de tweets sobre bitcoin trazem alguma palavra relacionada a criptomoedas em seu perfil. Isso nos indica mais uma vez que os tweets sobre bitcoin são produzidos, em larga escala, por usuários realmente ligados ao tema."
   ]
  },
  {
   "cell_type": "markdown",
   "metadata": {},
   "source": [
    "### Contagem de postagens por usuário"
   ]
  },
  {
   "cell_type": "code",
   "execution_count": null,
   "metadata": {},
   "outputs": [],
   "source": [
    "df1['tweet_count'].describe()"
   ]
  },
  {
   "cell_type": "markdown",
   "metadata": {},
   "source": [
    "Aqui temos de novo uma média maior que a mediana, o que indica uma distriubuição assimétrica positivamente. Chama atenção que a mediana seja 1, o que significa que a maioria dos usuários têm apenas um tweet sobre o assunto. Ou seja, essa informação nos indica que há também um grande número de usuários que fala sobre bitcoin de maneira mais casual"
   ]
  },
  {
   "cell_type": "code",
   "execution_count": null,
   "metadata": {},
   "outputs": [],
   "source": [
    "#Retirando outliers para olhar melhor para o coluna\n",
    "upper_limit = df1['tweet_count'].quantile(0.99)\n",
    "df1.loc[df1['tweet_count']>upper_limit, 'tweet_count'] = upper_limit"
   ]
  },
  {
   "cell_type": "code",
   "execution_count": null,
   "metadata": {},
   "outputs": [],
   "source": [
    "sns.displot(data=df1, x='tweet_count', kind='kde')"
   ]
  },
  {
   "cell_type": "markdown",
   "metadata": {},
   "source": [
    "### user_location"
   ]
  },
  {
   "cell_type": "code",
   "execution_count": null,
   "metadata": {},
   "outputs": [],
   "source": [
    "## Geographic python imports\n",
    "\n",
    "from geotext import GeoText\n",
    "from geopy.geocoders import Nominatim\n",
    "from folium.plugins import FastMarkerCluster, MarkerCluster\n",
    "import folium"
   ]
  },
  {
   "cell_type": "code",
   "execution_count": null,
   "metadata": {},
   "outputs": [],
   "source": [
    "## Helper functions\n",
    "\n",
    "geolocator = Nominatim(user_agent='f', timeout=3)\n",
    "def get_lat_lon(string):\n",
    "    info =  geolocator.geocode(string)\n",
    "    try:\n",
    "        return pd.Series([info.latitude, info.longitude])\n",
    "    except:\n",
    "        return (0,0)\n",
    "\n",
    "def get_country(string):\n",
    "    list_of_countries = GeoText(str(string)).countries\n",
    "    if len(list_of_countries) > 0:\n",
    "        return list_of_countries[0]\n",
    "    return ''\n",
    "\n",
    "def get_city(string):\n",
    "    list_of_cities = GeoText(str(string)).cities\n",
    "    if len(list_of_cities) > 0:\n",
    "        return list_of_cities[0]\n",
    "    return ''\n",
    "\n",
    "def get_country_or_city(string):\n",
    "    gtxt = GeoText(str(string))\n",
    "    list_of_countries = gtxt.countries\n",
    "    if len(list_of_countries) > 0:\n",
    "        return list_of_countries[0]\n",
    "    \n",
    "    list_of_cities = gtxt.cities\n",
    "    if len(list_of_cities) > 0:\n",
    "        return list_of_cities[0]\n",
    "    return ''"
   ]
  },
  {
   "cell_type": "code",
   "execution_count": null,
   "metadata": {},
   "outputs": [],
   "source": [
    "locations = df1['user_location'].unique()\n",
    "len(locations)"
   ]
  },
  {
   "cell_type": "code",
   "execution_count": null,
   "metadata": {},
   "outputs": [],
   "source": [
    "location_country = {loc: get_country(loc) for loc in locations}\n",
    "location_city = {loc: get_city(loc) for loc in locations}\n",
    "location_country_or_city = {loc: get_country_or_city(loc) for loc in locations}"
   ]
  },
  {
   "cell_type": "code",
   "execution_count": null,
   "metadata": {},
   "outputs": [],
   "source": [
    "df1['country'] = df1['user_location'].map(location_country)\n",
    "df1['city'] = df1['user_location'].map(location_city)\n",
    "df1['country_or_city'] = df1['user_location'].map(location_country_or_city)"
   ]
  },
  {
   "cell_type": "code",
   "execution_count": null,
   "metadata": {},
   "outputs": [],
   "source": [
    "print(f\"Usuáruios sem país: {(df1['country'] == '').mean():.2%}\")\n",
    "print(f\"Usuáruios sem cidade: {(df1['city'] == '').mean():.2%}\")\n",
    "print(f\"Usuáruios sem país ou cidade: {(df1['country_or_city'] == '').mean():.2%}\")"
   ]
  },
  {
   "cell_type": "markdown",
   "metadata": {},
   "source": [
    "Em 72% dos usuários, não foi possível extrai sua localização do campo user_location. As análises sobre localização, portanto, vão focar nos restantes 28% dos usuários"
   ]
  },
  {
   "cell_type": "markdown",
   "metadata": {},
   "source": [
    "Vamos olhar para a frequência de presença de cada local. Para isso, vamos excluir usuáriod cuja localização não pudemos determinar. Assim, pode-se olhar melhor para a distribuição dos usuário pelo mundo"
   ]
  },
  {
   "cell_type": "code",
   "execution_count": null,
   "metadata": {},
   "outputs": [],
   "source": [
    "# 10 países mais frequentes sua frequência dentre todos os usuários com algum país no campo user_location\n",
    "df1['country'].loc[df1['country'] != ''].value_counts(1).map('{:.2%}'.format).head(10)"
   ]
  },
  {
   "cell_type": "code",
   "execution_count": null,
   "metadata": {},
   "outputs": [],
   "source": [
    "# 10 cidades mais frequentese e sua frequência dentre todos os usuários com alguma cidade no campo user_location\n",
    "df1['city'].loc[df1['city'] != ''].value_counts(1).map('{:.2%}'.format).head(10)"
   ]
  },
  {
   "cell_type": "code",
   "execution_count": null,
   "metadata": {},
   "outputs": [],
   "source": [
    "# 10 locais (país ou cidade) mais frequentes e sua frequência dentre todos os usuários com local preenchdo\n",
    "df1['country_or_city'].loc[df1['country_or_city'] != ''].value_counts(1).map('{:.2%}'.format).head(10)"
   ]
  },
  {
   "cell_type": "markdown",
   "metadata": {},
   "source": [
    "Vamos agora exibir esses dados em um mapa mundi. Como o processo de obter latitude e longitude de cada local leva bastante tempo, vamos considerar só os 1000 locais mais frequentes no dataset.\n",
    "\n",
    "Com essa quantidade, o processo leva cerca de 10 minutos. Se o seu computador indicar um tempo muito maior, vc pode diminuir o número de lugares alterando a variável n_places"
   ]
  },
  {
   "cell_type": "code",
   "execution_count": null,
   "metadata": {},
   "outputs": [],
   "source": [
    "n_places = 1000\n",
    "places_to_plot = list(df1['country_or_city'].value_counts().iloc[1:n_places+1].index)\n",
    "places_loc = {place: get_lat_lon(place) for place in tqdm(places_to_plot)}"
   ]
  },
  {
   "cell_type": "code",
   "execution_count": null,
   "metadata": {},
   "outputs": [],
   "source": [
    "lats = {place: places_loc[place][0] for place in places_loc.keys()}\n",
    "lons = {place: places_loc[place][1] for place in places_loc.keys()}"
   ]
  },
  {
   "cell_type": "code",
   "execution_count": null,
   "metadata": {},
   "outputs": [],
   "source": [
    "df1['lat'] = df1['country_or_city'].map(lats)\n",
    "df1['lon'] = df1['country_or_city'].map(lons)"
   ]
  },
  {
   "cell_type": "code",
   "execution_count": null,
   "metadata": {},
   "outputs": [],
   "source": [
    "world_map = folium.Map(tiles=\"cartodbpositron\")\n",
    "marker_cluster = MarkerCluster().add_to(world_map)"
   ]
  },
  {
   "cell_type": "code",
   "execution_count": null,
   "metadata": {},
   "outputs": [],
   "source": [
    "df2 = df1.loc[~df1['lon'].isna()].copy()\n",
    "world_map.add_child(FastMarkerCluster(df2[['lat', 'lon']].values.tolist()))\n",
    "world_map"
   ]
  },
  {
   "cell_type": "markdown",
   "metadata": {},
   "source": [
    "No mapa acima, podemos ver as 500 localizações mais frequentes dos usuários que tweetam sobre bitcoin. Conforme o zoom aumenta e diminui, o mapa agrega os valores.\n",
    "Pode-se alguns clusters mais importantes, sendo os principais nos Estados Unidos, na Europa e na Índia."
   ]
  },
  {
   "cell_type": "markdown",
   "metadata": {},
   "source": [
    "## Relações entre colunas"
   ]
  },
  {
   "cell_type": "code",
   "execution_count": null,
   "metadata": {},
   "outputs": [],
   "source": [
    "types = ['bool', 'float64', 'int64']\n",
    "df3 = df1.select_dtypes(include=types).copy()\n",
    "df3.drop(['lat', 'lon'], axis=1, inplace=True)"
   ]
  },
  {
   "cell_type": "code",
   "execution_count": null,
   "metadata": {},
   "outputs": [],
   "source": [
    "import matplotlib.pyplot as plt\n",
    "plt.figure(figsize=(12,12))\n",
    "sns.heatmap(df3.corr(), annot=True, fmt='.2f')"
   ]
  },
  {
   "cell_type": "markdown",
   "metadata": {},
   "source": [
    "- Como era de se esperar, as variáveis user_followers, user_favourites e user_friends têm alta correlação entre si.\n",
    "- Também era de se esperar a correlação encontrada entre a coluna user_followers e as colunas user_verified e tweet_count. (usuário com mais seguidors têm maior chance de serem verificados e tweetam mais)\n",
    "- As colunas criadas a partir de palavras-chaves também mostram uma correlação relevante\n",
    "- A coluna tweet_count também mostra relação com o aparecimento de palavras-chave no nome e na descrição. Isso indica que os usuários que colocam essa palavra-chave costumam tweetar mais sobre o assunto"
   ]
  },
  {
   "cell_type": "markdown",
   "metadata": {},
   "source": [
    "## Conclusões"
   ]
  },
  {
   "cell_type": "markdown",
   "metadata": {},
   "source": [
    "A partir da análise, pode-se tirar algumas conclusões sobre os usuários:\n",
    "\n",
    "\n",
    "- Não há uma grande representação de usuários verificados (<1%). Talvez essa proporção seja maior do que a geral no twitter, mas essa informação não está no dataset\n",
    "- A maioria dos usuários que tweeta sobre bitcoin teve a conta criada entre 2019 e 2022. Há um aumento significativo a partir de 2020\n",
    "- Boa parte dos tweets vêm de plataformas móveis (android e Apple), o que indica que os usuário usam bastante o celular para tweetar sobre bitcoin\n",
    "- Os usuários têm média de 5226 favoritos, com mediana 586. Os usuários têm média de 732 amigos, com mediana 236. Os usuários têm média de 2926 seguidores, com mediana 76. São três distribuições com relevante assimetria positiva. Ou seja, uma minoria dos usuários têm números muito mais altos em relação ao restante, o que aumenta a média do dataset.\n",
    "- 30% dos usuários tem alguma palavra chave relacionada a criptomoedas (bitcoin, crypto, ehereum) em sua descrição ou em seu nome. Isso indica que os tweets sobre o assunto são feitos, em boa parte, por usuário com relação próxima ao tema\n",
    "- A mediana de postagens por usuário é apenas 1, ou seja, mais da metade dos usuários do dataset tem apenas uma postagem sobre o assunto. Essa informação nos indica que há também um grande número de usuários que fala sobre bitcoin de maneira mais casual\n",
    "- Uma parte relavante dos usuários que tweetaram sobre bitcoin está concentrada em três clusters: Estados Unidos, Europa Ocidental e Índia (com Paquistão e Bangladesh)\n",
    "- Usuários com mais seguidores têm também mais amigos e mais favoritos. E isso vale pra comparação de qualquer um dessas 3 em relação às outras duas.\n",
    "- Usuário com mais seguidores têm maior probabilidade de serem verificados e tem mais tweets\n",
    "- O número de tweets mostrou relação relavante com a presença de palavras-chave cripto no nome ou na descrição. Isso indica que os usuários que usam essas palavras em ser perfil tweetam mais sobre o assunto"
   ]
  },
  {
   "cell_type": "code",
   "execution_count": null,
   "metadata": {},
   "outputs": [],
   "source": []
  }
 ],
 "metadata": {
  "interpreter": {
   "hash": "d19e4f6f954c4b9cefc192d99c58cd849cb1c0c50822424b644d01a7305a4a29"
  },
  "kernelspec": {
   "display_name": "teste1",
   "language": "python",
   "name": "teste1"
  },
  "language_info": {
   "codemirror_mode": {
    "name": "ipython",
    "version": 3
   },
   "file_extension": ".py",
   "mimetype": "text/x-python",
   "name": "python",
   "nbconvert_exporter": "python",
   "pygments_lexer": "ipython3",
   "version": "3.7.13"
  }
 },
 "nbformat": 4,
 "nbformat_minor": 2
}
