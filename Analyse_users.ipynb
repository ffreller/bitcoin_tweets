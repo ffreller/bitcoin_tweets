{
 "cells": [
  {
   "cell_type": "code",
   "execution_count": 1,
   "metadata": {},
   "outputs": [],
   "source": [
    "import seaborn as sns\n",
    "import pandas as pd"
   ]
  },
  {
   "cell_type": "markdown",
   "metadata": {},
   "source": [
    "## Lendo o dataset"
   ]
  },
  {
   "cell_type": "code",
   "execution_count": 2,
   "metadata": {},
   "outputs": [
    {
     "name": "stderr",
     "output_type": "stream",
     "text": [
      "/home/ffreller/.conda/envs/teste1/lib/python3.7/site-packages/IPython/core/interactiveshell.py:3417: DtypeWarning: Columns (4,5,6,7,12) have mixed types.Specify dtype option on import or set low_memory=False.\n",
      "  exec(code_obj, self.user_global_ns, self.user_ns)\n"
     ]
    },
    {
     "name": "stdout",
     "output_type": "stream",
     "text": [
      "<class 'pandas.core.frame.DataFrame'>\n",
      "RangeIndex: 2830476 entries, 0 to 2830475\n",
      "Data columns (total 13 columns):\n",
      " #   Column            Dtype \n",
      "---  ------            ----- \n",
      " 0   user_name         object\n",
      " 1   user_location     object\n",
      " 2   user_description  object\n",
      " 3   user_created      object\n",
      " 4   user_followers    object\n",
      " 5   user_friends      object\n",
      " 6   user_favourites   object\n",
      " 7   user_verified     object\n",
      " 8   date              object\n",
      " 9   text              object\n",
      " 10  hashtags          object\n",
      " 11  source            object\n",
      " 12  is_retweet        object\n",
      "dtypes: object(13)\n",
      "memory usage: 280.7+ MB\n"
     ]
    }
   ],
   "source": [
    "df0 = pd.read_csv('Bitcoin_tweets.csv')\n",
    "df0.info()"
   ]
  },
  {
   "cell_type": "code",
   "execution_count": 3,
   "metadata": {},
   "outputs": [
    {
     "data": {
      "text/plain": [
       "Index(['user_name', 'user_location', 'user_description', 'user_created',\n",
       "       'user_followers', 'user_friends', 'user_favourites', 'user_verified',\n",
       "       'date', 'text', 'hashtags', 'source', 'is_retweet'],\n",
       "      dtype='object')"
      ]
     },
     "execution_count": 3,
     "metadata": {},
     "output_type": "execute_result"
    }
   ],
   "source": [
    "df0.columns"
   ]
  },
  {
   "cell_type": "code",
   "execution_count": 4,
   "metadata": {},
   "outputs": [
    {
     "data": {
      "text/html": [
       "<div>\n",
       "<style scoped>\n",
       "    .dataframe tbody tr th:only-of-type {\n",
       "        vertical-align: middle;\n",
       "    }\n",
       "\n",
       "    .dataframe tbody tr th {\n",
       "        vertical-align: top;\n",
       "    }\n",
       "\n",
       "    .dataframe thead th {\n",
       "        text-align: right;\n",
       "    }\n",
       "</style>\n",
       "<table border=\"1\" class=\"dataframe\">\n",
       "  <thead>\n",
       "    <tr style=\"text-align: right;\">\n",
       "      <th></th>\n",
       "      <th>user_name</th>\n",
       "      <th>user_location</th>\n",
       "      <th>user_description</th>\n",
       "      <th>user_created</th>\n",
       "      <th>user_followers</th>\n",
       "      <th>user_friends</th>\n",
       "      <th>user_favourites</th>\n",
       "      <th>user_verified</th>\n",
       "      <th>date</th>\n",
       "      <th>text</th>\n",
       "      <th>hashtags</th>\n",
       "      <th>source</th>\n",
       "      <th>is_retweet</th>\n",
       "    </tr>\n",
       "  </thead>\n",
       "  <tbody>\n",
       "    <tr>\n",
       "      <th>0</th>\n",
       "      <td>DeSota Wilson</td>\n",
       "      <td>Atlanta, GA</td>\n",
       "      <td>Biz Consultant, real estate, fintech, startups...</td>\n",
       "      <td>2009-04-26 20:05:09</td>\n",
       "      <td>8534.0</td>\n",
       "      <td>7605</td>\n",
       "      <td>4838</td>\n",
       "      <td>False</td>\n",
       "      <td>2021-02-10 23:59:04</td>\n",
       "      <td>Blue Ridge Bank shares halted by NYSE after #b...</td>\n",
       "      <td>['bitcoin']</td>\n",
       "      <td>Twitter Web App</td>\n",
       "      <td>False</td>\n",
       "    </tr>\n",
       "    <tr>\n",
       "      <th>1</th>\n",
       "      <td>CryptoND</td>\n",
       "      <td>NaN</td>\n",
       "      <td>😎 BITCOINLIVE is a Dutch platform aimed at inf...</td>\n",
       "      <td>2019-10-17 20:12:10</td>\n",
       "      <td>6769.0</td>\n",
       "      <td>1532</td>\n",
       "      <td>25483</td>\n",
       "      <td>False</td>\n",
       "      <td>2021-02-10 23:58:48</td>\n",
       "      <td>😎 Today, that's this #Thursday, we will do a \"...</td>\n",
       "      <td>['Thursday', 'Btc', 'wallet', 'security']</td>\n",
       "      <td>Twitter for Android</td>\n",
       "      <td>False</td>\n",
       "    </tr>\n",
       "    <tr>\n",
       "      <th>2</th>\n",
       "      <td>Tdlmatias</td>\n",
       "      <td>London, England</td>\n",
       "      <td>IM Academy : The best #forex, #SelfEducation, ...</td>\n",
       "      <td>2014-11-10 10:50:37</td>\n",
       "      <td>128.0</td>\n",
       "      <td>332</td>\n",
       "      <td>924</td>\n",
       "      <td>False</td>\n",
       "      <td>2021-02-10 23:54:48</td>\n",
       "      <td>Guys evening, I have read this article about B...</td>\n",
       "      <td>NaN</td>\n",
       "      <td>Twitter Web App</td>\n",
       "      <td>False</td>\n",
       "    </tr>\n",
       "    <tr>\n",
       "      <th>3</th>\n",
       "      <td>Crypto is the future</td>\n",
       "      <td>NaN</td>\n",
       "      <td>I will post a lot of buying signals for BTC tr...</td>\n",
       "      <td>2019-09-28 16:48:12</td>\n",
       "      <td>625.0</td>\n",
       "      <td>129</td>\n",
       "      <td>14</td>\n",
       "      <td>False</td>\n",
       "      <td>2021-02-10 23:54:33</td>\n",
       "      <td>$BTC A big chance in a billion! Price: \\487264...</td>\n",
       "      <td>['Bitcoin', 'FX', 'BTC', 'crypto']</td>\n",
       "      <td>dlvr.it</td>\n",
       "      <td>False</td>\n",
       "    </tr>\n",
       "    <tr>\n",
       "      <th>4</th>\n",
       "      <td>Alex Kirchmaier 🇦🇹🇸🇪 #FactsSuperspreader</td>\n",
       "      <td>Europa</td>\n",
       "      <td>Co-founder @RENJERJerky | Forbes 30Under30 | I...</td>\n",
       "      <td>2016-02-03 13:15:55</td>\n",
       "      <td>1249.0</td>\n",
       "      <td>1472</td>\n",
       "      <td>10482</td>\n",
       "      <td>False</td>\n",
       "      <td>2021-02-10 23:54:06</td>\n",
       "      <td>This network is secured by 9 508 nodes as of t...</td>\n",
       "      <td>['BTC']</td>\n",
       "      <td>Twitter Web App</td>\n",
       "      <td>False</td>\n",
       "    </tr>\n",
       "  </tbody>\n",
       "</table>\n",
       "</div>"
      ],
      "text/plain": [
       "                                  user_name    user_location  \\\n",
       "0                             DeSota Wilson      Atlanta, GA   \n",
       "1                                  CryptoND              NaN   \n",
       "2                                 Tdlmatias  London, England   \n",
       "3                      Crypto is the future              NaN   \n",
       "4  Alex Kirchmaier 🇦🇹🇸🇪 #FactsSuperspreader           Europa   \n",
       "\n",
       "                                    user_description         user_created  \\\n",
       "0  Biz Consultant, real estate, fintech, startups...  2009-04-26 20:05:09   \n",
       "1  😎 BITCOINLIVE is a Dutch platform aimed at inf...  2019-10-17 20:12:10   \n",
       "2  IM Academy : The best #forex, #SelfEducation, ...  2014-11-10 10:50:37   \n",
       "3  I will post a lot of buying signals for BTC tr...  2019-09-28 16:48:12   \n",
       "4  Co-founder @RENJERJerky | Forbes 30Under30 | I...  2016-02-03 13:15:55   \n",
       "\n",
       "  user_followers user_friends user_favourites user_verified  \\\n",
       "0         8534.0         7605            4838         False   \n",
       "1         6769.0         1532           25483         False   \n",
       "2          128.0          332             924         False   \n",
       "3          625.0          129              14         False   \n",
       "4         1249.0         1472           10482         False   \n",
       "\n",
       "                  date                                               text  \\\n",
       "0  2021-02-10 23:59:04  Blue Ridge Bank shares halted by NYSE after #b...   \n",
       "1  2021-02-10 23:58:48  😎 Today, that's this #Thursday, we will do a \"...   \n",
       "2  2021-02-10 23:54:48  Guys evening, I have read this article about B...   \n",
       "3  2021-02-10 23:54:33  $BTC A big chance in a billion! Price: \\487264...   \n",
       "4  2021-02-10 23:54:06  This network is secured by 9 508 nodes as of t...   \n",
       "\n",
       "                                    hashtags               source is_retweet  \n",
       "0                                ['bitcoin']      Twitter Web App      False  \n",
       "1  ['Thursday', 'Btc', 'wallet', 'security']  Twitter for Android      False  \n",
       "2                                        NaN      Twitter Web App      False  \n",
       "3         ['Bitcoin', 'FX', 'BTC', 'crypto']              dlvr.it      False  \n",
       "4                                    ['BTC']      Twitter Web App      False  "
      ]
     },
     "execution_count": 4,
     "metadata": {},
     "output_type": "execute_result"
    }
   ],
   "source": [
    "df0.head(5)"
   ]
  },
  {
   "cell_type": "markdown",
   "metadata": {},
   "source": [
    "Como o objetivo deste notebook é analisar o perfil dos usuário. vamos analisar as colunas referente ao usuário: user)name, user_location, user_description, user_followers, user_favourites, user_favourites e source."
   ]
  },
  {
   "cell_type": "markdown",
   "metadata": {},
   "source": [
    "## Analisar colunas"
   ]
  },
  {
   "cell_type": "markdown",
   "metadata": {},
   "source": [
    "### user_verfified"
   ]
  },
  {
   "cell_type": "code",
   "execution_count": 5,
   "metadata": {},
   "outputs": [
    {
     "data": {
      "text/plain": [
       "array(['False', 'True',\n",
       "       \"@krakenfx  #ETH #BTC  If you want to become poor, please don't buy #Bitcoin Obviously not financial advice. https://t.co/RstLTzN2MX\",\n",
       "       False, True,\n",
       "       \"Official ESHOP Airdrop. If You Missed Meme Token Rally, Don't Miss ESHOP.  Join Now: https://t.co/2dtf2Pqc55   Join our Telegram: https://t.co/aaOlDav2rT   @EShop_Token @elonmusk #cryptocurrency #BSC #Bitcoin #Ethereum #ETH #Airdrop #bounty #ESHOP  #Airdrops\",\n",
       "       '@pufferswap Nice project\\n\\n@karnoto_hendrik \\n@ayubcandra12 \\n@put_nab \\n\\n#YieldFarming #Airdrop #Binance #Bitcoin #pancakeswap #BNB #cryptocurrency #DeFi #BTC #BinanceSmartChain #BSC\\n#pufferswap #DeFi #bsc #bnb #bitcoin #cryto #Airdrop #Airdrop',\n",
       "       '#btc to the moon 🚀🚀 77774', '#btc to the moon 🚀🚀 46059',\n",
       "       '@DogCakeFinance @DogCakeFinance Great project\\nThis project will go to the moon 🚀🚀🚀\\n\\n@vandy_126 @Awan_MT @iqbalairun\\n\\n@DogCakeFinance #YieldFarming #Airdrop #PancakeSwap #Giveaway #BTC #BNB #Binance #BSC #cryptocurrency\\n\\nBSC address : 0xd03bE36b056129c8700eff2E04766001d3739ECa',\n",
       "       \"@bloodgoodBTC5\\n\\n#Bitcoin\\xa0  \\n\\nShort term trade plans\\n\\nScenario\\n-Trendline doesn't hold\\n-BTC gets rejected AND finds support on the next demand and on ema21 D1\\n\\nScenario 2, \\n-S is respected. \\n-Prime R breaks\\n-You open a long with me for retirement\\n\\ntrade futures with me here https://t.co/URAzEHW2MK\",\n",
       "       '🤯Mind-blowing 99.7% of all Bitcoin holders are now in profit\\n\\nThe same value was recorded earlier, back in April-May, when Bitcoin reached its record price of $64,899.\\n\\nAt the moment, Bitcoin is trading at $62,859. \\n\\n#cryptotrading #crypto #tradingbots #bitcoin #btc https://t.co/75h0Gwb942',\n",
       "       '@pythonwealth Good Project 🎉🎉🎉🎉\\n\\n@nurull_padileh \\n@rini_cappcuzz \\n@DindAlkhatiri24 \\n@diviafan \\n@FllowFllowvyia \\n\\n#PW #pythonwealth #Presale #token #ico #BSC #Binance  #smartchain #blockchain #coin #airdrop #launch #token_presale #poocoin #pinksale #pancakeswap #bitcoin #btc',\n",
       "       '@iftikharpost the world is flat #bitcoin 💪',\n",
       "       '@airdropinspect Good and special project\\n@anc_10 @WidyaSaputri6 @wishaka13 \\n#Airdrop #Airdrops #Airdropinspector #BSC #MetaGods #USDT #Crypto #Bitcoin',\n",
       "       'DocumentingBTC: #bitcoin at $30: \"Am I too late?\"\\n#bitcoin at $800: \"Am I too late?\"\\n#bitcoin at $7,000: \"Am I too late?\"\\n#bitcoin at $19,000: \"Am I too late?\" https://t.co/GKl2HxLYgb',\n",
       "       'Crypto Market\\nOpen your Free Angel One Account here:\\nhttps://t.co/T5tq5qeCDl\\n.\\n#cryptocurrencies  #bitcoin  #cryptotrading #cryptocurrency \\n #sharemarket #stockmarket  #trading #tradingforex #motivation #indianstockmarket #investing #investment #money #technicalanalysisinhindi https://t.co/JkVJYeFUXM',\n",
       "       '35',\n",
       "       '💸 Earn free #BTC and multiply crypto up to 15% monthly with @betfury BOXes 📦 Enjoy the easy way to get cryptocurrency! Real rewards every 20 min 💥 📈 Referral Bonuses 35% #betfurysuccess',\n",
       "       nan], dtype=object)"
      ]
     },
     "execution_count": 5,
     "metadata": {},
     "output_type": "execute_result"
    }
   ],
   "source": [
    "df0['user_verified'].unique()"
   ]
  },
  {
   "cell_type": "markdown",
   "metadata": {},
   "source": [
    "Há algumas informações que não deveriam estar nessa coluna, que deveria ser do tipo bool"
   ]
  },
  {
   "cell_type": "code",
   "execution_count": 6,
   "metadata": {},
   "outputs": [],
   "source": [
    "df0['user_verified'] = df0['user_verified'].apply(lambda x: (True if x=='True' else False) if type(x)==str else x).astype(bool)"
   ]
  },
  {
   "cell_type": "markdown",
   "metadata": {},
   "source": [
    "### Date and user_created"
   ]
  },
  {
   "cell_type": "code",
   "execution_count": 7,
   "metadata": {},
   "outputs": [],
   "source": [
    "df0['date'] = pd.to_datetime(df0['date'], format='%Y-%m-%d %H:%M:%S', errors='coerce')\n",
    "df0['user_created'] = pd.to_datetime(df0['user_created'], format='%Y-%m-%d %H:%M:%S', errors='coerce')"
   ]
  },
  {
   "cell_type": "code",
   "execution_count": 8,
   "metadata": {},
   "outputs": [
    {
     "data": {
      "text/plain": [
       "2021.0    0.374883\n",
       "2020.0    0.125697\n",
       "2019.0    0.068889\n",
       "2018.0    0.063094\n",
       "2017.0    0.051204\n",
       "2009.0    0.040868\n",
       "2022.0    0.040382\n",
       "2012.0    0.038946\n",
       "2013.0    0.036354\n",
       "2011.0    0.035431\n",
       "2015.0    0.031554\n",
       "2014.0    0.030559\n",
       "2010.0    0.027313\n",
       "2016.0    0.026324\n",
       "2008.0    0.006794\n",
       "2007.0    0.001650\n",
       "2006.0    0.000055\n",
       "1970.0    0.000002\n",
       "Name: user_created, dtype: float64"
      ]
     },
     "execution_count": 8,
     "metadata": {},
     "output_type": "execute_result"
    }
   ],
   "source": [
    "df0['user_created'].dt.year.value_counts(1)"
   ]
  },
  {
   "cell_type": "code",
   "execution_count": 22,
   "metadata": {},
   "outputs": [
    {
     "name": "stderr",
     "output_type": "stream",
     "text": [
      "/home/ffreller/.conda/envs/teste1/lib/python3.7/site-packages/numpy/lib/nanfunctions.py:1376: RuntimeWarning: All-NaN slice encountered\n",
      "  overwrite_input=overwrite_input, interpolation=interpolation\n"
     ]
    }
   ],
   "source": [
    "sns.lineplot(df0['user_created'].dt.year.value_counts())"
   ]
  },
  {
   "cell_type": "markdown",
   "metadata": {},
   "source": [
    "A maioria dos usuários foi criada recentemente. Mais da metade dos usuários foi criada entre 2019 e 2022."
   ]
  },
  {
   "cell_type": "markdown",
   "metadata": {},
   "source": [
    "## source"
   ]
  },
  {
   "cell_type": "code",
   "execution_count": 9,
   "metadata": {},
   "outputs": [
    {
     "data": {
      "text/plain": [
       "Twitter for Android    30.070449\n",
       "Twitter Web App        25.771901\n",
       "Twitter for iPhone     19.181794\n",
       "IFTTT                   1.498025\n",
       "dlvr.it                 1.152006\n",
       "TweetDeck               0.780480\n",
       "ContentStudio.io        0.764207\n",
       "Twitter for iPad        0.611910\n",
       "HoBaBot                 0.464743\n",
       "Hootsuite Inc.          0.417268\n",
       "Name: source, dtype: float64"
      ]
     },
     "execution_count": 9,
     "metadata": {},
     "output_type": "execute_result"
    }
   ],
   "source": [
    "## 10 fontes mais comuns no dataset e sua porcentagem no dataset\n",
    "df0['source'].value_counts(1).head(10)*100"
   ]
  },
  {
   "cell_type": "markdown",
   "metadata": {},
   "source": [
    "Nota-se que android+iphone representam quase 50% das fontes de todos os tweets"
   ]
  },
  {
   "cell_type": "code",
   "execution_count": 10,
   "metadata": {},
   "outputs": [
    {
     "data": {
      "text/plain": [
       "Twitter for Android    30.030567\n",
       "Twitter Web App        25.737720\n",
       "outros                 19.394264\n",
       "Twitter for iPhone     19.156354\n",
       "IFTTT                   1.496038\n",
       "dlvr.it                 1.150478\n",
       "TweetDeck               0.779445\n",
       "ContentStudio.io        0.763193\n",
       "Twitter for iPad        0.611099\n",
       "HoBaBot                 0.464127\n",
       "Hootsuite Inc.          0.416714\n",
       "Name: source, dtype: float64"
      ]
     },
     "execution_count": 10,
     "metadata": {},
     "output_type": "execute_result"
    }
   ],
   "source": [
    "top_10 = df0['source'].value_counts().head(10).index\n",
    "# Transformando valores que não estão no top10 em \"outros\"\n",
    "df0.loc[~df0['source'].isin(top_10), 'source'] = 'outros'\n",
    "df0['source'] = pd.Categorical(df0['source'])\n",
    "df0['source'].value_counts(1)*100"
   ]
  },
  {
   "cell_type": "markdown",
   "metadata": {},
   "source": [
    "Fontes que não estão no top 10 representam 19% das fontes do dataset"
   ]
  },
  {
   "cell_type": "markdown",
   "metadata": {},
   "source": [
    "### user_favourites"
   ]
  },
  {
   "cell_type": "code",
   "execution_count": 11,
   "metadata": {},
   "outputs": [],
   "source": [
    "def clean_number_column(value):\n",
    "    try:\n",
    "        return float(value)\n",
    "    except:\n",
    "        return float(\"NaN\")"
   ]
  },
  {
   "cell_type": "code",
   "execution_count": 12,
   "metadata": {},
   "outputs": [
    {
     "data": {
      "text/plain": [
       "count    2830324.00000\n",
       "mean        6580.72316\n",
       "std        21247.94936\n",
       "min            0.00000\n",
       "25%           86.00000\n",
       "50%          712.00000\n",
       "75%         3826.00000\n",
       "max      1248517.00000\n",
       "Name: user_favourites, dtype: object"
      ]
     },
     "execution_count": 12,
     "metadata": {},
     "output_type": "execute_result"
    }
   ],
   "source": [
    "df0['user_favourites'] = df0['user_favourites'].apply(clean_number_column)\n",
    "df0['user_favourites'].describe().apply(\"{0:.5f}\".format)"
   ]
  },
  {
   "cell_type": "markdown",
   "metadata": {},
   "source": [
    "Os usuários têm uma média de 6580 favoritos. Mas olhando pra mediana (712), percebe-se que a distribuição é assimétrica positivamente."
   ]
  },
  {
   "cell_type": "code",
   "execution_count": 13,
   "metadata": {},
   "outputs": [],
   "source": [
    "#Retirando outliers para olhar melhor para o coluna\n",
    "iqr = df0['user_favourites'].quantile(0.75) - df0['user_favourites'].quantile(0.25)\n",
    "upper_limit = df0['user_favourites'].quantile(0.75) + iqr*3\n",
    "df0.loc[df0['user_favourites']>upper_limit, 'user_favourites'] = upper_limit"
   ]
  },
  {
   "cell_type": "code",
   "execution_count": 14,
   "metadata": {},
   "outputs": [
    {
     "data": {
      "text/plain": [
       "<seaborn.axisgrid.FacetGrid at 0x7f65ffaa4650>"
      ]
     },
     "execution_count": 14,
     "metadata": {},
     "output_type": "execute_result"
    },
    {
     "data": {
      "image/png": "[encoded data removed]",
      "text/plain": [
       "<Figure size 360x360 with 1 Axes>"
      ]
     },
     "metadata": {},
     "output_type": "display_data"
    }
   ],
   "source": [
    "sns.displot(data=df0, x='user_favourites', kind='kde')"
   ]
  },
  {
   "cell_type": "markdown",
   "metadata": {},
   "source": [
    "### user_friends"
   ]
  },
  {
   "cell_type": "code",
   "execution_count": 15,
   "metadata": {},
   "outputs": [
    {
     "data": {
      "text/plain": [
       "count    2830323.00000\n",
       "mean        1198.50988\n",
       "std         7185.96415\n",
       "min            0.00000\n",
       "25%           55.00000\n",
       "50%          235.00000\n",
       "75%          807.00000\n",
       "max      4201104.00000\n",
       "Name: user_friends, dtype: object"
      ]
     },
     "execution_count": 15,
     "metadata": {},
     "output_type": "execute_result"
    }
   ],
   "source": [
    "df0['user_friends'] = df0['user_friends'].apply(clean_number_column)\n",
    "df0['user_friends'].describe().apply(\"{0:.5f}\".format)"
   ]
  },
  {
   "cell_type": "markdown",
   "metadata": {},
   "source": [
    "Assim como no caso dos favoritos, a média (1198) é bem maior que a mediana (235). Isso significa que a distribuição é assimétrica positivamente."
   ]
  },
  {
   "cell_type": "code",
   "execution_count": 16,
   "metadata": {},
   "outputs": [],
   "source": [
    "#Retirando outliers para olhar melhor para o coluna\n",
    "iqr = df0['user_friends'].quantile(0.75) - df0['user_friends'].quantile(0.25)\n",
    "upper_limit = df0['user_friends'].quantile(0.75) + iqr*3\n",
    "df0.loc[df0['user_friends']>upper_limit, 'user_friends'] = upper_limit"
   ]
  },
  {
   "cell_type": "code",
   "execution_count": 17,
   "metadata": {},
   "outputs": [
    {
     "data": {
      "text/plain": [
       "<seaborn.axisgrid.FacetGrid at 0x7f65ff239b50>"
      ]
     },
     "execution_count": 17,
     "metadata": {},
     "output_type": "execute_result"
    },
    {
     "data": {
      "image/png": "[encoded data removed]",
      "text/plain": [
       "<Figure size 360x360 with 1 Axes>"
      ]
     },
     "metadata": {},
     "output_type": "display_data"
    }
   ],
   "source": [
    "sns.displot(data=df0, x='user_friends', kind='kde')"
   ]
  },
  {
   "cell_type": "markdown",
   "metadata": {},
   "source": [
    "### user_followers"
   ]
  },
  {
   "cell_type": "code",
   "execution_count": 18,
   "metadata": {},
   "outputs": [
    {
     "data": {
      "text/plain": [
       "count     2830337.00000\n",
       "mean         8225.36444\n",
       "std        104730.03091\n",
       "min             0.00000\n",
       "25%            45.00000\n",
       "50%           205.00000\n",
       "75%          1227.00000\n",
       "max      24131346.00000\n",
       "Name: user_followers, dtype: object"
      ]
     },
     "execution_count": 18,
     "metadata": {},
     "output_type": "execute_result"
    }
   ],
   "source": [
    "df0['user_followers'] = df0['user_followers'].apply(clean_number_column)\n",
    "df0['user_followers'].describe().apply(\"{0:.5f}\".format)"
   ]
  },
  {
   "cell_type": "markdown",
   "metadata": {},
   "source": [
    "Assim como as outras duas variáveis numéria, temos uma distribuição positivamente assimétrica. Usuário têm média de 8225 seguidores, mas mediana de 205"
   ]
  },
  {
   "cell_type": "code",
   "execution_count": 19,
   "metadata": {},
   "outputs": [],
   "source": [
    "#Retirando outliers para olhar melhor para o coluna\n",
    "iqr = df0['user_followers'].quantile(0.75) - df0['user_friends'].quantile(0.25)\n",
    "upper_limit = df0['user_followers'].quantile(0.75) + iqr*3\n",
    "df0.loc[df0['user_followers']>upper_limit, 'user_followers'] = upper_limit"
   ]
  },
  {
   "cell_type": "code",
   "execution_count": 20,
   "metadata": {},
   "outputs": [
    {
     "data": {
      "text/plain": [
       "<seaborn.axisgrid.FacetGrid at 0x7f65fe5f00d0>"
      ]
     },
     "execution_count": 20,
     "metadata": {},
     "output_type": "execute_result"
    },
    {
     "data": {
      "image/png": "[encoded data removed]",
      "text/plain": [
       "<Figure size 360x360 with 1 Axes>"
      ]
     },
     "metadata": {},
     "output_type": "display_data"
    }
   ],
   "source": [
    "sns.displot(data=df0, x='user_followers', kind='kde')"
   ]
  },
  {
   "cell_type": "markdown",
   "metadata": {},
   "source": [
    "# users_name\n",
    "Vamos ver se conseguimos extrair informações sobre os usuários a partir dos nomes"
   ]
  },
  {
   "cell_type": "markdown",
   "metadata": {},
   "source": []
  },
  {
   "cell_type": "code",
   "execution_count": 21,
   "metadata": {},
   "outputs": [],
   "source": [
    "df0['bitcoin_in_name'] = df0['user_name'].str.lower().str.contains('bitcoin')\n",
    "df0['crypto_in_name'] = df0['user_name'].str.lower().str.contains('crypto')\n",
    "df0['ethereum_in_name'] = df0['user_name'].str.lower().str.contains('ethereum')"
   ]
  },
  {
   "cell_type": "code",
   "execution_count": null,
   "metadata": {},
   "outputs": [],
   "source": []
  }
 ],
 "metadata": {
  "interpreter": {
   "hash": "d19e4f6f954c4b9cefc192d99c58cd849cb1c0c50822424b644d01a7305a4a29"
  },
  "kernelspec": {
   "display_name": "Python 3.7.13 ('teste1')",
   "language": "python",
   "name": "python3"
  },
  "language_info": {
   "codemirror_mode": {
    "name": "ipython",
    "version": 3
   },
   "file_extension": ".py",
   "mimetype": "text/x-python",
   "name": "python",
   "nbconvert_exporter": "python",
   "pygments_lexer": "ipython3",
   "version": "3.7.13"
  },
  "orig_nbformat": 4
 },
 "nbformat": 4,
 "nbformat_minor": 2
}
